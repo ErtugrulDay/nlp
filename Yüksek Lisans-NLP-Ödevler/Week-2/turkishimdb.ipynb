{
 "cells": [
  {
   "cell_type": "code",
   "execution_count": 37,
   "metadata": {},
   "outputs": [],
   "source": [
    "from warnings import filterwarnings\n",
    "import matplotlib.pyplot as plt\n",
    "import numpy as np \n",
    "import pandas as pd\n",
    "from PIL import Image\n",
    "from nltk.corpus import stopwords\n",
    "from nltk.sentiment import SentimentIntensityAnalyzer\n",
    "from sklearn.ensemble import RandomForestClassifier\n",
    "from sklearn.model_selection import cross_val_score, GridSearchCV, cross_validate\n",
    "from sklearn.preprocessing import LabelEncoder\n",
    "from textblob import Word, TextBlob\n",
    "from wordcloud import WordCloud"
   ]
  },
  {
   "cell_type": "code",
   "execution_count": 38,
   "metadata": {},
   "outputs": [],
   "source": [
    "df=pd.read_csv(\"Turkish_IMDB_Dataset.csv\")"
   ]
  },
  {
   "cell_type": "code",
   "execution_count": 39,
   "metadata": {},
   "outputs": [],
   "source": [
    "df=df.head(1000)\n",
    "\n",
    "df[\"reviewText_raw\"] = df[\"reviewText\"]  # Ham metni saklayalım, ileride kıyaslama için bakalım"
   ]
  },
  {
   "cell_type": "code",
   "execution_count": 40,
   "metadata": {},
   "outputs": [
    {
     "data": {
      "text/html": [
       "<div>\n",
       "<style scoped>\n",
       "    .dataframe tbody tr th:only-of-type {\n",
       "        vertical-align: middle;\n",
       "    }\n",
       "\n",
       "    .dataframe tbody tr th {\n",
       "        vertical-align: top;\n",
       "    }\n",
       "\n",
       "    .dataframe thead th {\n",
       "        text-align: right;\n",
       "    }\n",
       "</style>\n",
       "<table border=\"1\" class=\"dataframe\">\n",
       "  <thead>\n",
       "    <tr style=\"text-align: right;\">\n",
       "      <th></th>\n",
       "      <th>reviewText</th>\n",
       "      <th>sentiment</th>\n",
       "      <th>reviewText_raw</th>\n",
       "    </tr>\n",
       "  </thead>\n",
       "  <tbody>\n",
       "    <tr>\n",
       "      <th>0</th>\n",
       "      <td>Diğer yorumculardan biri, sadece 1 Oz bölümünü...</td>\n",
       "      <td>pozitif</td>\n",
       "      <td>Diğer yorumculardan biri, sadece 1 Oz bölümünü...</td>\n",
       "    </tr>\n",
       "    <tr>\n",
       "      <th>1</th>\n",
       "      <td>Harika bir küçük prodüksiyon. &lt;br /&gt;&lt;br /&gt;Çeki...</td>\n",
       "      <td>pozitif</td>\n",
       "      <td>Harika bir küçük prodüksiyon. &lt;br /&gt;&lt;br /&gt;Çeki...</td>\n",
       "    </tr>\n",
       "    <tr>\n",
       "      <th>2</th>\n",
       "      <td>Çok sıcak bir yaz hafta sonunda vakit geçirmek...</td>\n",
       "      <td>pozitif</td>\n",
       "      <td>Çok sıcak bir yaz hafta sonunda vakit geçirmek...</td>\n",
       "    </tr>\n",
       "    <tr>\n",
       "      <th>3</th>\n",
       "      <td>Temel olarak, küçük bir çocuğun (Jake) dolabın...</td>\n",
       "      <td>negatif</td>\n",
       "      <td>Temel olarak, küçük bir çocuğun (Jake) dolabın...</td>\n",
       "    </tr>\n",
       "    <tr>\n",
       "      <th>4</th>\n",
       "      <td>Petter Mattei'nin Love in the Time of Money fi...</td>\n",
       "      <td>pozitif</td>\n",
       "      <td>Petter Mattei'nin Love in the Time of Money fi...</td>\n",
       "    </tr>\n",
       "  </tbody>\n",
       "</table>\n",
       "</div>"
      ],
      "text/plain": [
       "                                          reviewText sentiment  \\\n",
       "0  Diğer yorumculardan biri, sadece 1 Oz bölümünü...   pozitif   \n",
       "1  Harika bir küçük prodüksiyon. <br /><br />Çeki...   pozitif   \n",
       "2  Çok sıcak bir yaz hafta sonunda vakit geçirmek...   pozitif   \n",
       "3  Temel olarak, küçük bir çocuğun (Jake) dolabın...   negatif   \n",
       "4  Petter Mattei'nin Love in the Time of Money fi...   pozitif   \n",
       "\n",
       "                                      reviewText_raw  \n",
       "0  Diğer yorumculardan biri, sadece 1 Oz bölümünü...  \n",
       "1  Harika bir küçük prodüksiyon. <br /><br />Çeki...  \n",
       "2  Çok sıcak bir yaz hafta sonunda vakit geçirmek...  \n",
       "3  Temel olarak, küçük bir çocuğun (Jake) dolabın...  \n",
       "4  Petter Mattei'nin Love in the Time of Money fi...  "
      ]
     },
     "execution_count": 40,
     "metadata": {},
     "output_type": "execute_result"
    }
   ],
   "source": [
    "df.head()"
   ]
  },
  {
   "cell_type": "code",
   "execution_count": 41,
   "metadata": {},
   "outputs": [
    {
     "data": {
      "text/plain": [
       "0    228\n",
       "1    124\n",
       "2    119\n",
       "3    115\n",
       "4    174\n",
       "Name: word_count_before, dtype: int64"
      ]
     },
     "execution_count": 41,
     "metadata": {},
     "output_type": "execute_result"
    }
   ],
   "source": [
    "df[\"word_count_before\"] = df[\"reviewText\"].apply(lambda x: len(str(x).split()))\n",
    "df[\"word_count_before\"].head()"
   ]
  },
  {
   "cell_type": "code",
   "execution_count": 42,
   "metadata": {},
   "outputs": [
    {
     "data": {
      "text/html": [
       "<div>\n",
       "<style scoped>\n",
       "    .dataframe tbody tr th:only-of-type {\n",
       "        vertical-align: middle;\n",
       "    }\n",
       "\n",
       "    .dataframe tbody tr th {\n",
       "        vertical-align: top;\n",
       "    }\n",
       "\n",
       "    .dataframe thead th {\n",
       "        text-align: right;\n",
       "    }\n",
       "</style>\n",
       "<table border=\"1\" class=\"dataframe\">\n",
       "  <thead>\n",
       "    <tr style=\"text-align: right;\">\n",
       "      <th></th>\n",
       "      <th>reviewText</th>\n",
       "      <th>reviewText_raw</th>\n",
       "    </tr>\n",
       "  </thead>\n",
       "  <tbody>\n",
       "    <tr>\n",
       "      <th>0</th>\n",
       "      <td>diğer yorumculardan biri  sadece   oz bölümünü...</td>\n",
       "      <td>Diğer yorumculardan biri, sadece 1 Oz bölümünü...</td>\n",
       "    </tr>\n",
       "    <tr>\n",
       "      <th>1</th>\n",
       "      <td>harika bir küçük prodüksiyon   br    br   çeki...</td>\n",
       "      <td>Harika bir küçük prodüksiyon. &lt;br /&gt;&lt;br /&gt;Çeki...</td>\n",
       "    </tr>\n",
       "    <tr>\n",
       "      <th>2</th>\n",
       "      <td>çok sıcak bir yaz hafta sonunda vakit geçirmek...</td>\n",
       "      <td>Çok sıcak bir yaz hafta sonunda vakit geçirmek...</td>\n",
       "    </tr>\n",
       "    <tr>\n",
       "      <th>3</th>\n",
       "      <td>temel olarak  küçük bir çocuğun  jake  dolabın...</td>\n",
       "      <td>Temel olarak, küçük bir çocuğun (Jake) dolabın...</td>\n",
       "    </tr>\n",
       "    <tr>\n",
       "      <th>4</th>\n",
       "      <td>petter mattei nin love in the time of money fi...</td>\n",
       "      <td>Petter Mattei'nin Love in the Time of Money fi...</td>\n",
       "    </tr>\n",
       "  </tbody>\n",
       "</table>\n",
       "</div>"
      ],
      "text/plain": [
       "                                          reviewText  \\\n",
       "0  diğer yorumculardan biri  sadece   oz bölümünü...   \n",
       "1  harika bir küçük prodüksiyon   br    br   çeki...   \n",
       "2  çok sıcak bir yaz hafta sonunda vakit geçirmek...   \n",
       "3  temel olarak  küçük bir çocuğun  jake  dolabın...   \n",
       "4  petter mattei nin love in the time of money fi...   \n",
       "\n",
       "                                      reviewText_raw  \n",
       "0  Diğer yorumculardan biri, sadece 1 Oz bölümünü...  \n",
       "1  Harika bir küçük prodüksiyon. <br /><br />Çeki...  \n",
       "2  Çok sıcak bir yaz hafta sonunda vakit geçirmek...  \n",
       "3  Temel olarak, küçük bir çocuğun (Jake) dolabın...  \n",
       "4  Petter Mattei'nin Love in the Time of Money fi...  "
      ]
     },
     "execution_count": 42,
     "metadata": {},
     "output_type": "execute_result"
    }
   ],
   "source": [
    "#Normalizing Case Folding\n",
    "\n",
    "df[\"reviewText\"]=df[\"reviewText\"].str.lower()\n",
    "\n",
    "#Punctuations\n",
    "df[\"reviewText\"]=df[\"reviewText\"].str.replace(\"[^\\w\\s]\",\" \",regex=True)\n",
    "\n",
    "#Numbers\n",
    "df[\"reviewText\"]=df[\"reviewText\"].str.replace(\"\\d\",\" \",regex=True)\n",
    "\n",
    "df[[\"reviewText\",\"reviewText_raw\"]].head()"
   ]
  },
  {
   "cell_type": "code",
   "execution_count": 43,
   "metadata": {},
   "outputs": [
    {
     "data": {
      "text/html": [
       "<div>\n",
       "<style scoped>\n",
       "    .dataframe tbody tr th:only-of-type {\n",
       "        vertical-align: middle;\n",
       "    }\n",
       "\n",
       "    .dataframe tbody tr th {\n",
       "        vertical-align: top;\n",
       "    }\n",
       "\n",
       "    .dataframe thead th {\n",
       "        text-align: right;\n",
       "    }\n",
       "</style>\n",
       "<table border=\"1\" class=\"dataframe\">\n",
       "  <thead>\n",
       "    <tr style=\"text-align: right;\">\n",
       "      <th></th>\n",
       "      <th>reviewText</th>\n",
       "      <th>reviewText_raw</th>\n",
       "    </tr>\n",
       "  </thead>\n",
       "  <tbody>\n",
       "    <tr>\n",
       "      <th>0</th>\n",
       "      <td>diğer yorumculardan sadece oz bölümünü izledik...</td>\n",
       "      <td>Diğer yorumculardan biri, sadece 1 Oz bölümünü...</td>\n",
       "    </tr>\n",
       "    <tr>\n",
       "      <th>1</th>\n",
       "      <td>harika bir küçük prodüksiyon br br çekim tekni...</td>\n",
       "      <td>Harika bir küçük prodüksiyon. &lt;br /&gt;&lt;br /&gt;Çeki...</td>\n",
       "    </tr>\n",
       "    <tr>\n",
       "      <th>2</th>\n",
       "      <td>sıcak bir yaz hafta sonunda vakit geçirmek bun...</td>\n",
       "      <td>Çok sıcak bir yaz hafta sonunda vakit geçirmek...</td>\n",
       "    </tr>\n",
       "    <tr>\n",
       "      <th>3</th>\n",
       "      <td>temel olarak küçük bir çocuğun jake dolabında ...</td>\n",
       "      <td>Temel olarak, küçük bir çocuğun (Jake) dolabın...</td>\n",
       "    </tr>\n",
       "    <tr>\n",
       "      <th>4</th>\n",
       "      <td>petter mattei nin love in the time of money fi...</td>\n",
       "      <td>Petter Mattei'nin Love in the Time of Money fi...</td>\n",
       "    </tr>\n",
       "  </tbody>\n",
       "</table>\n",
       "</div>"
      ],
      "text/plain": [
       "                                          reviewText  \\\n",
       "0  diğer yorumculardan sadece oz bölümünü izledik...   \n",
       "1  harika bir küçük prodüksiyon br br çekim tekni...   \n",
       "2  sıcak bir yaz hafta sonunda vakit geçirmek bun...   \n",
       "3  temel olarak küçük bir çocuğun jake dolabında ...   \n",
       "4  petter mattei nin love in the time of money fi...   \n",
       "\n",
       "                                      reviewText_raw  \n",
       "0  Diğer yorumculardan biri, sadece 1 Oz bölümünü...  \n",
       "1  Harika bir küçük prodüksiyon. <br /><br />Çeki...  \n",
       "2  Çok sıcak bir yaz hafta sonunda vakit geçirmek...  \n",
       "3  Temel olarak, küçük bir çocuğun (Jake) dolabın...  \n",
       "4  Petter Mattei'nin Love in the Time of Money fi...  "
      ]
     },
     "execution_count": 43,
     "metadata": {},
     "output_type": "execute_result"
    }
   ],
   "source": [
    "#Stop Words\n",
    "import nltk\n",
    "\n",
    "sw=stopwords.words(\"turkish\")\n",
    "df[\"reviewText\"]=df[\"reviewText\"].apply(lambda x: \" \".join(x for x in str(x).split() if x not in sw))\n",
    "df[[\"reviewText\",\"reviewText_raw\"]].head()"
   ]
  },
  {
   "cell_type": "code",
   "execution_count": 44,
   "metadata": {},
   "outputs": [
    {
     "data": {
      "text/plain": [
       "0    [diğer, yorumculardan, sadece, oz, bölümünü, i...\n",
       "1    [harika, bir, küçük, prodüksiyon, br, br, çeki...\n",
       "2    [sıcak, bir, yaz, hafta, sonunda, vakit, geçir...\n",
       "3    [temel, olarak, küçük, bir, çocuğun, jake, dol...\n",
       "4    [petter, mattei, nin, love, in, the, time, of,...\n",
       "Name: reviewText, dtype: object"
      ]
     },
     "execution_count": 44,
     "metadata": {},
     "output_type": "execute_result"
    }
   ],
   "source": [
    "#Tokenization\n",
    "#nltk.download(\"punkt\")\n",
    "from textblob import TextBlob\n",
    "df[\"reviewText\"].apply(lambda x: TextBlob(x).words).head()\n"
   ]
  },
  {
   "cell_type": "code",
   "execution_count": 49,
   "metadata": {},
   "outputs": [
    {
     "name": "stdout",
     "output_type": "stream",
     "text": [
      "                                      reviewText_raw  \\\n",
      "0  Diğer yorumculardan biri, sadece 1 Oz bölümünü...   \n",
      "1  Harika bir küçük prodüksiyon. <br /><br />Çeki...   \n",
      "2  Çok sıcak bir yaz hafta sonunda vakit geçirmek...   \n",
      "3  Temel olarak, küçük bir çocuğun (Jake) dolabın...   \n",
      "4  Petter Mattei'nin Love in the Time of Money fi...   \n",
      "\n",
      "                                          reviewText  \n",
      "0  diğer yor sade böl iz sonra bağ söyle hak ben ...  \n",
      "1  harika bir küçük prodüksiyon çek teknik müteva...  \n",
      "2  sıcak bir yaz hafta sonunda vakit geç bun hari...  \n",
      "3  temel ol küçük bir çocuk dolap bir zombi ol dü...  \n",
      "4  in tim of film iz görsel açı çarpı bir film ba...  \n"
     ]
    }
   ],
   "source": [
    "import pandas as pd\n",
    "from trnlp import TrnlpWord\n",
    "\n",
    "# Lemmatizasyon fonksiyonu\n",
    "def lemmatize(text):\n",
    "    words = text.split()\n",
    "    lemmatized_words = []\n",
    "\n",
    "    for word in words:\n",
    "        tr_word = TrnlpWord()\n",
    "        tr_word.setword(word)\n",
    "        lemma = tr_word.get_base  # Kök formunu al\n",
    "        lemmatized_words.append(lemma)\n",
    "    \n",
    "    return \" \".join(lemmatized_words)\n",
    "\n",
    "\n",
    "\n",
    "\n",
    "# Lemmatizasyon işlemi\n",
    "df[\"reviewText\"] = df[\"reviewText\"].apply(lemmatize)\n",
    "\n",
    "# Sonucu göster\n",
    "print(df[[\"reviewText_raw\", \"reviewText\"]].head())"
   ]
  },
  {
   "cell_type": "code",
   "execution_count": 50,
   "metadata": {},
   "outputs": [
    {
     "name": "stdout",
     "output_type": "stream",
     "text": [
      "Orijinal: Diğer yorumculardan biri, sadece 1 Oz bölümünü izledikten sonra bağlanacağınızı söyledi. Haklılar, çünkü benim başıma gelen tam olarak bu.<br /><br />Oz'da beni ilk etkileyen şey, daha ilk günden itibaren başlayan vahşeti ve yılmayan şiddet sahneleriydi. İnanın bana, bu korkak veya çekingenler için bir dizi değil. Bu dizi uyuşturucu, seks veya şiddet konusunda hiçbir yumruk atmıyor. Kelimenin klasik kullanımıyla hardcore.<br /><br />Oz olarak adlandırılmasının sebebi, Oswald Maksimum Güvenlikli Eyalet Hapishanesi'ne verilen takma ad olmasıdır. Esas olarak, tüm hücrelerin cam ön cephelere sahip olduğu ve içeriye baktığı, bu nedenle gizliliğin gündemde olmadığı deneysel bir hapishane bölümü olan Emerald City'ye odaklanıyor. Em City birçok kişiye ev sahipliği yapıyor... Aryanlar, Müslümanlar, gangsterler, Latinler, Hristiyanlar, İtalyanlar, İrlandalılar ve daha fazlası... bu yüzden kavgalar, ölümcül bakışlar, şaibeli anlaşmalar ve karanlık anlaşmalar asla uzakta değil.<br /><br />Bence dizinin asıl çekiciliği, diğer dizilerin cesaret edemeyeceği yerlere gitmesi. Ana akım izleyiciler için çizilmiş güzel resimleri, çekiciliği, romantizmi unutun... OZ şakaya gelmez. İzlediğim ilk bölüm bana o kadar iğrenç geldi ki gerçeküstüydü, buna hazır olduğumu söyleyemedim ama daha fazlasını izledikçe Oz'a karşı bir zevk geliştirdim ve yüksek düzeydeki grafik şiddete alıştım. Sadece şiddet değil, adaletsizlik de var (bir kuruş için satılacak olan çarpık gardiyanlar, emir üzerine öldürüp bundan cezasız kurtulan mahkumlar, sokak becerileri veya hapishane deneyimleri olmadığı için hapishane fahişelerine dönüştürülen iyi huylu, orta sınıf mahkumlar). Oz'u izlerken, rahatsız edici izlemelerle rahat edebilirsiniz... ancak karanlık tarafınızla temas kurabilirseniz.\n",
      "İşlenmiş: diğer yor sade böl iz sonra bağ söyle hak ben baş gelen tam ol ben ilk etki ilk günde itibaren baş vahşet yıl şiddet sahne nan bana korkak çek bir dizi değil dizi uyu seks şiddet konu hiçbir yumruk at kelime klasik kullan ol ad sebep maksimum güven eyalet hapishane veri tak ad ol esas ol hücre cam ön cephe sahip ol içeri bak neden giz gündem ol deney bir hapishane böl ol ye odak em birçok kişi ev sahip yap arya Müslüman gangster Latin Hristiyan fazla yüzde kavga öl bak şaibe an karanlık an asla uzak değil ben dizin asıl çeki diğer dizi cesaret et yer git ana ak iz çizi güzel resim çeki romantizm unut şaka gel ilk böl bana kadar iğrenç gel gerçeküstü buna hazır ol söyle fazla iz a karşı bir zevk gel yüksek düzey grafik şiddet al sade şiddet değil adalet var bir kur satı ol çarp gardiyan emir üzerine öl bun ceza kurtul mahkûm sokak beceri hapishane deneyim ol hapishane fahişe dön iyi huy orta sınıf mahkûm iz rahat et iz rahat et ancak karanlık taraf temas kur\n",
      "--------------------------------------------------\n",
      "Orijinal: Harika bir küçük prodüksiyon. <br /><br />Çekim tekniği çok mütevazı -çok eski zaman BBC tarzı- ve tüm parçaya rahatlatıcı ve bazen rahatsız edici bir gerçekçilik duygusu veriyor. <br /><br />Oyuncular son derece iyi seçilmiş - Michael Sheen sadece tüm polarilere sahip değil, aynı zamanda tüm sesleri de çok iyi biliyor! Williams'ın günlük kayıtlarına yapılan göndermelerle yönlendirilen kusursuz düzenlemeyi gerçekten görebiliyorsunuz, sadece izlemeye değer değil, aynı zamanda müthiş yazılmış ve oynanmış bir parça. Komedi ustalarından biri ve hayatı hakkında ustaca bir prodüksiyon. <br /><br />Gerçekçilik gerçekten küçük şeylerle eve geliyor: Geleneksel 'rüya' tekniklerini kullanmak yerine sağlam kalıp sonra kaybolan muhafız fantezisi. Bilgimizle ve duyularımızla oynuyor, özellikle Orton ve Halliwell ile ilgili sahnelerde ve setlerde (özellikle Halliwell'in her yüzeyini süsleyen duvar resimleriyle dairelerinde) çok iyi yapılmış.\n",
      "İşlenmiş: harika bir küçük prodüksiyon çek teknik mütevazı eski zaman tarz parça rahat bazen rahat et bir gerçek duygu ver oyun son derece iyi seçilmiş sade sahip değil aynı zaman ses iyi bile gün kay yapı gönder yön kusur düzen gerçekten gör sade iz değer değil aynı zaman müthiş yazı oyna bir parça komedi usta hayat hakkında usta bir prodüksiyon gerçek gerçekten küçük şey ev gel gelenek rüya teknik kullan yerine sağlam kalıp sonra kayıp muhafız fantezi bilgi duyu oyna özel ilgi sahne set özel in yüzey süs duvar resim daire iyi yapı\n",
      "--------------------------------------------------\n",
      "Orijinal: Çok sıcak bir yaz hafta sonunda vakit geçirmek için bunun harika bir yol olduğunu düşündüm, klimalı sinemada oturup hafif yürekli bir komedi izleyerek. Konu basit ama diyaloglar esprili ve karakterler sevimli (hatta kuyudan ekmek zanlısı seri katil bile). Bazıları bunun Match Point 2: Risk Addiction olmadığını anladıklarında hayal kırıklığına uğrayabilirken, Woody Allen'ın çoğumuzun sevdiği tarzda hala tam kontrole sahip olduğunun kanıtı olduğunu düşündüm.<br /><br />Bu, Woody'nin komedilerinden birinde yıllardır (on yıl mı demeliyim?) en çok güldüğüm filmdi. Scarlet Johanson'dan hiç etkilenmemiş olsam da, bunda seksi imajını yumuşatmayı başardı ve sıradan ama canlı bir genç kadına dönüştü.<br /><br />Bu, kariyerinin en önemli eseri olmayabilir ama Şeytan Marka Giyerden daha esprili ve Süpermenden daha ilgi çekiciydi, arkadaşlarla izlenecek harika bir komedi.\n",
      "İşlenmiş: sıcak bir yaz hafta sonunda vakit geç bun harika bir yol ol düşün klima sinema otur hafif yürek bir komedi iz konu basit diyalog espri karakter sev hatta kuyu ekmek zan seri katil bile bazı bun risk ol an hayal kır uğra çoğu sev tarz hala tam kontrol sahip ol kanıt ol düşün komedi biri yıl on yıl de gül film etki ol bun seksi imaj yumuşa başar sıradan can bir genç kadın dön kariyer önem eser ol şeytan marka giy espri süper ilgi çeki arka iz harika bir komedi\n",
      "--------------------------------------------------\n"
     ]
    }
   ],
   "source": [
    "for i in range(3):  # İlk 3 örneği karşılaştır\n",
    "    print(f\"Orijinal: {df['reviewText_raw'][i]}\")\n",
    "    print(f\"İşlenmiş: {df['reviewText'][i]}\")\n",
    "    print(\"-\"*50)"
   ]
  },
  {
   "cell_type": "code",
   "execution_count": 51,
   "metadata": {},
   "outputs": [
    {
     "data": {
      "text/html": [
       "<div>\n",
       "<style scoped>\n",
       "    .dataframe tbody tr th:only-of-type {\n",
       "        vertical-align: middle;\n",
       "    }\n",
       "\n",
       "    .dataframe tbody tr th {\n",
       "        vertical-align: top;\n",
       "    }\n",
       "\n",
       "    .dataframe thead th {\n",
       "        text-align: right;\n",
       "    }\n",
       "</style>\n",
       "<table border=\"1\" class=\"dataframe\">\n",
       "  <thead>\n",
       "    <tr style=\"text-align: right;\">\n",
       "      <th></th>\n",
       "      <th>reviewText</th>\n",
       "      <th>reviewText_raw</th>\n",
       "    </tr>\n",
       "  </thead>\n",
       "  <tbody>\n",
       "    <tr>\n",
       "      <th>0</th>\n",
       "      <td>diğer yor sade böl iz sonra bağ söyle hak ben ...</td>\n",
       "      <td>Diğer yorumculardan biri, sadece 1 Oz bölümünü...</td>\n",
       "    </tr>\n",
       "    <tr>\n",
       "      <th>1</th>\n",
       "      <td>harika bir küçük prodüksiyon çek teknik müteva...</td>\n",
       "      <td>Harika bir küçük prodüksiyon. &lt;br /&gt;&lt;br /&gt;Çeki...</td>\n",
       "    </tr>\n",
       "    <tr>\n",
       "      <th>2</th>\n",
       "      <td>sıcak bir yaz hafta sonunda vakit geç bun hari...</td>\n",
       "      <td>Çok sıcak bir yaz hafta sonunda vakit geçirmek...</td>\n",
       "    </tr>\n",
       "    <tr>\n",
       "      <th>3</th>\n",
       "      <td>temel ol küçük bir çocuk dolap bir zombi ol dü...</td>\n",
       "      <td>Temel olarak, küçük bir çocuğun (Jake) dolabın...</td>\n",
       "    </tr>\n",
       "    <tr>\n",
       "      <th>4</th>\n",
       "      <td>in tim of film iz görsel açı çarpı bir film ba...</td>\n",
       "      <td>Petter Mattei'nin Love in the Time of Money fi...</td>\n",
       "    </tr>\n",
       "  </tbody>\n",
       "</table>\n",
       "</div>"
      ],
      "text/plain": [
       "                                          reviewText  \\\n",
       "0  diğer yor sade böl iz sonra bağ söyle hak ben ...   \n",
       "1  harika bir küçük prodüksiyon çek teknik müteva...   \n",
       "2  sıcak bir yaz hafta sonunda vakit geç bun hari...   \n",
       "3  temel ol küçük bir çocuk dolap bir zombi ol dü...   \n",
       "4  in tim of film iz görsel açı çarpı bir film ba...   \n",
       "\n",
       "                                      reviewText_raw  \n",
       "0  Diğer yorumculardan biri, sadece 1 Oz bölümünü...  \n",
       "1  Harika bir küçük prodüksiyon. <br /><br />Çeki...  \n",
       "2  Çok sıcak bir yaz hafta sonunda vakit geçirmek...  \n",
       "3  Temel olarak, küçük bir çocuğun (Jake) dolabın...  \n",
       "4  Petter Mattei'nin Love in the Time of Money fi...  "
      ]
     },
     "execution_count": 51,
     "metadata": {},
     "output_type": "execute_result"
    }
   ],
   "source": [
    "#Stemming\n",
    "\n",
    "from nltk.stem import PorterStemmer\n",
    "\n",
    "ps = PorterStemmer()\n",
    "df[\"reviewText\"] = df[\"reviewText\"].apply(lambda x: \" \".join([ps.stem(word) for word in x.split()]))\n",
    "df[[\"reviewText\",\"reviewText_raw\"]].head()"
   ]
  },
  {
   "cell_type": "code",
   "execution_count": 52,
   "metadata": {},
   "outputs": [
    {
     "data": {
      "text/plain": [
       "0    184\n",
       "1     92\n",
       "2     90\n",
       "3     90\n",
       "4    129\n",
       "Name: word_count_after, dtype: int64"
      ]
     },
     "execution_count": 52,
     "metadata": {},
     "output_type": "execute_result"
    }
   ],
   "source": [
    "df[\"word_count_after\"] = df[\"reviewText\"].apply(lambda x: len(str(x).split()))\n",
    "df[\"word_count_after\"].head()"
   ]
  },
  {
   "cell_type": "code",
   "execution_count": 53,
   "metadata": {},
   "outputs": [
    {
     "name": "stdout",
     "output_type": "stream",
     "text": [
      "Ön işleme öncesi toplam kelime sayısı: 170310\n",
      "Ön işleme sonrası toplam kelime sayısı: 128895\n",
      "\n",
      "işlem öncesi ortalama kelime sayısı: 170.31\n",
      "\n",
      "işlem sonrası ortalama kelime sayısı: 128.895\n",
      "\n",
      "Ortalama kelime sayısı farkı: 41.41499999999999\n"
     ]
    }
   ],
   "source": [
    "print(\"Ön işleme öncesi toplam kelime sayısı:\", df[\"word_count_before\"].sum())\n",
    "print(\"Ön işleme sonrası toplam kelime sayısı:\", df[\"word_count_after\"].sum())\n",
    "\n",
    "print(\"\\nişlem öncesi ortalama kelime sayısı:\",df[\"word_count_before\"].mean())\n",
    "print(\"\\nişlem sonrası ortalama kelime sayısı:\",df[\"word_count_after\"].mean())\n",
    "\n",
    "print(\"\\nOrtalama kelime sayısı farkı:\", df[\"word_count_before\"].mean() - df[\"word_count_after\"].mean())"
   ]
  },
  {
   "cell_type": "code",
   "execution_count": 54,
   "metadata": {},
   "outputs": [
    {
     "data": {
      "text/html": [
       "<div>\n",
       "<style scoped>\n",
       "    .dataframe tbody tr th:only-of-type {\n",
       "        vertical-align: middle;\n",
       "    }\n",
       "\n",
       "    .dataframe tbody tr th {\n",
       "        vertical-align: top;\n",
       "    }\n",
       "\n",
       "    .dataframe thead th {\n",
       "        text-align: right;\n",
       "    }\n",
       "</style>\n",
       "<table border=\"1\" class=\"dataframe\">\n",
       "  <thead>\n",
       "    <tr style=\"text-align: right;\">\n",
       "      <th></th>\n",
       "      <th>reviewText</th>\n",
       "      <th>word_count_before</th>\n",
       "      <th>word_count_after</th>\n",
       "    </tr>\n",
       "  </thead>\n",
       "  <tbody>\n",
       "    <tr>\n",
       "      <th>906</th>\n",
       "      <td>inc oku ön belir hiçbir şekil halk karşı bir a...</td>\n",
       "      <td>133</td>\n",
       "      <td>101</td>\n",
       "    </tr>\n",
       "    <tr>\n",
       "      <th>49</th>\n",
       "      <td>orta şaşır derec uysal normal standart göre ha...</td>\n",
       "      <td>80</td>\n",
       "      <td>59</td>\n",
       "    </tr>\n",
       "    <tr>\n",
       "      <th>533</th>\n",
       "      <td>hayat sade bir film iz ol yaşa uy durmaksızın ...</td>\n",
       "      <td>91</td>\n",
       "      <td>68</td>\n",
       "    </tr>\n",
       "    <tr>\n",
       "      <th>439</th>\n",
       "      <td>film yıl sıkı film ol aday bile film dip bat k...</td>\n",
       "      <td>130</td>\n",
       "      <td>90</td>\n",
       "    </tr>\n",
       "    <tr>\n",
       "      <th>18</th>\n",
       "      <td>film hatır sinema iz ilk film gör yer yer kara...</td>\n",
       "      <td>88</td>\n",
       "      <td>63</td>\n",
       "    </tr>\n",
       "  </tbody>\n",
       "</table>\n",
       "</div>"
      ],
      "text/plain": [
       "                                            reviewText  word_count_before  \\\n",
       "906  inc oku ön belir hiçbir şekil halk karşı bir a...                133   \n",
       "49   orta şaşır derec uysal normal standart göre ha...                 80   \n",
       "533  hayat sade bir film iz ol yaşa uy durmaksızın ...                 91   \n",
       "439  film yıl sıkı film ol aday bile film dip bat k...                130   \n",
       "18   film hatır sinema iz ilk film gör yer yer kara...                 88   \n",
       "\n",
       "     word_count_after  \n",
       "906               101  \n",
       "49                 59  \n",
       "533                68  \n",
       "439                90  \n",
       "18                 63  "
      ]
     },
     "execution_count": 54,
     "metadata": {},
     "output_type": "execute_result"
    }
   ],
   "source": [
    "df[[\"reviewText\", \"word_count_before\", \"word_count_after\"]].sample(5)  # Rastgele 5 örnek seç"
   ]
  },
  {
   "cell_type": "code",
   "execution_count": 55,
   "metadata": {},
   "outputs": [
    {
     "name": "stdout",
     "output_type": "stream",
     "text": [
      "Orijinal: Diğer yorumculardan biri, sadece 1 Oz bölümünü izledikten sonra bağlanacağınızı söyledi. Haklılar, çünkü benim başıma gelen tam olarak bu.<br /><br />Oz'da beni ilk etkileyen şey, daha ilk günden itibaren başlayan vahşeti ve yılmayan şiddet sahneleriydi. İnanın bana, bu korkak veya çekingenler için bir dizi değil. Bu dizi uyuşturucu, seks veya şiddet konusunda hiçbir yumruk atmıyor. Kelimenin klasik kullanımıyla hardcore.<br /><br />Oz olarak adlandırılmasının sebebi, Oswald Maksimum Güvenlikli Eyalet Hapishanesi'ne verilen takma ad olmasıdır. Esas olarak, tüm hücrelerin cam ön cephelere sahip olduğu ve içeriye baktığı, bu nedenle gizliliğin gündemde olmadığı deneysel bir hapishane bölümü olan Emerald City'ye odaklanıyor. Em City birçok kişiye ev sahipliği yapıyor... Aryanlar, Müslümanlar, gangsterler, Latinler, Hristiyanlar, İtalyanlar, İrlandalılar ve daha fazlası... bu yüzden kavgalar, ölümcül bakışlar, şaibeli anlaşmalar ve karanlık anlaşmalar asla uzakta değil.<br /><br />Bence dizinin asıl çekiciliği, diğer dizilerin cesaret edemeyeceği yerlere gitmesi. Ana akım izleyiciler için çizilmiş güzel resimleri, çekiciliği, romantizmi unutun... OZ şakaya gelmez. İzlediğim ilk bölüm bana o kadar iğrenç geldi ki gerçeküstüydü, buna hazır olduğumu söyleyemedim ama daha fazlasını izledikçe Oz'a karşı bir zevk geliştirdim ve yüksek düzeydeki grafik şiddete alıştım. Sadece şiddet değil, adaletsizlik de var (bir kuruş için satılacak olan çarpık gardiyanlar, emir üzerine öldürüp bundan cezasız kurtulan mahkumlar, sokak becerileri veya hapishane deneyimleri olmadığı için hapishane fahişelerine dönüştürülen iyi huylu, orta sınıf mahkumlar). Oz'u izlerken, rahatsız edici izlemelerle rahat edebilirsiniz... ancak karanlık tarafınızla temas kurabilirseniz.\n",
      "İşlenmiş: diğer yor sade böl iz sonra bağ söyle hak ben baş gelen tam ol ben ilk etki ilk günde itibaren baş vahşet yıl şiddet sahn nan bana korkak çek bir dizi değil dizi uyu sek şiddet konu hiçbir yumruk at kelim klasik kullan ol ad sebep maksimum güven eyalet hapishan veri tak ad ol esa ol hücre cam ön ceph sahip ol içeri bak neden giz gündem ol deney bir hapishan böl ol ye odak em birçok kişi ev sahip yap arya müslüman gangster latin hristiyan fazla yüzde kavga öl bak şaib an karanlık an asla uzak değil ben dizin asıl çeki diğer dizi cesaret et yer git ana ak iz çizi güzel resim çeki romantizm unut şaka gel ilk böl bana kadar iğrenç gel gerçeküstü buna hazır ol söyle fazla iz a karşı bir zevk gel yüksek düzey grafik şiddet al sade şiddet değil adalet var bir kur satı ol çarp gardiyan emir üzerin öl bun ceza kurtul mahkûm sokak beceri hapishan deneyim ol hapishan fahiş dön iyi huy orta sınıf mahkûm iz rahat et iz rahat et ancak karanlık taraf tema kur\n",
      "--------------------------------------------------\n",
      "Orijinal: Harika bir küçük prodüksiyon. <br /><br />Çekim tekniği çok mütevazı -çok eski zaman BBC tarzı- ve tüm parçaya rahatlatıcı ve bazen rahatsız edici bir gerçekçilik duygusu veriyor. <br /><br />Oyuncular son derece iyi seçilmiş - Michael Sheen sadece tüm polarilere sahip değil, aynı zamanda tüm sesleri de çok iyi biliyor! Williams'ın günlük kayıtlarına yapılan göndermelerle yönlendirilen kusursuz düzenlemeyi gerçekten görebiliyorsunuz, sadece izlemeye değer değil, aynı zamanda müthiş yazılmış ve oynanmış bir parça. Komedi ustalarından biri ve hayatı hakkında ustaca bir prodüksiyon. <br /><br />Gerçekçilik gerçekten küçük şeylerle eve geliyor: Geleneksel 'rüya' tekniklerini kullanmak yerine sağlam kalıp sonra kaybolan muhafız fantezisi. Bilgimizle ve duyularımızla oynuyor, özellikle Orton ve Halliwell ile ilgili sahnelerde ve setlerde (özellikle Halliwell'in her yüzeyini süsleyen duvar resimleriyle dairelerinde) çok iyi yapılmış.\n",
      "İşlenmiş: harika bir küçük prodüksiyon çek teknik mütevazı eski zaman tarz parça rahat bazen rahat et bir gerçek duygu ver oyun son derec iyi seçilmiş sade sahip değil aynı zaman se iyi bile gün kay yapı gönder yön kusur düzen gerçekten gör sade iz değer değil aynı zaman müthiş yazı oyna bir parça komedi usta hayat hakkında usta bir prodüksiyon gerçek gerçekten küçük şey ev gel gelenek rüya teknik kullan yerin sağlam kalıp sonra kayıp muhafız fantezi bilgi duyu oyna özel ilgi sahn set özel in yüzey sü duvar resim dair iyi yapı\n",
      "--------------------------------------------------\n",
      "Orijinal: Çok sıcak bir yaz hafta sonunda vakit geçirmek için bunun harika bir yol olduğunu düşündüm, klimalı sinemada oturup hafif yürekli bir komedi izleyerek. Konu basit ama diyaloglar esprili ve karakterler sevimli (hatta kuyudan ekmek zanlısı seri katil bile). Bazıları bunun Match Point 2: Risk Addiction olmadığını anladıklarında hayal kırıklığına uğrayabilirken, Woody Allen'ın çoğumuzun sevdiği tarzda hala tam kontrole sahip olduğunun kanıtı olduğunu düşündüm.<br /><br />Bu, Woody'nin komedilerinden birinde yıllardır (on yıl mı demeliyim?) en çok güldüğüm filmdi. Scarlet Johanson'dan hiç etkilenmemiş olsam da, bunda seksi imajını yumuşatmayı başardı ve sıradan ama canlı bir genç kadına dönüştü.<br /><br />Bu, kariyerinin en önemli eseri olmayabilir ama Şeytan Marka Giyerden daha esprili ve Süpermenden daha ilgi çekiciydi, arkadaşlarla izlenecek harika bir komedi.\n",
      "İşlenmiş: sıcak bir yaz hafta sonunda vakit geç bun harika bir yol ol düşün klima sinema otur hafif yürek bir komedi iz konu basit diyalog espri karakt sev hatta kuyu ekmek zan seri katil bile bazı bun risk ol an hayal kır uğra çoğu sev tarz hala tam kontrol sahip ol kanıt ol düşün komedi biri yıl on yıl de gül film etki ol bun seksi imaj yumuşa başar sıradan can bir genç kadın dön kariy önem eser ol şeytan marka giy espri süper ilgi çeki arka iz harika bir komedi\n",
      "--------------------------------------------------\n"
     ]
    }
   ],
   "source": [
    "for i in range(3):  # İlk 3 örneği karşılaştır\n",
    "    print(f\"Orijinal: {df['reviewText_raw'][i]}\")\n",
    "    print(f\"İşlenmiş: {df['reviewText'][i]}\")\n",
    "    print(\"-\"*50)"
   ]
  }
 ],
 "metadata": {
  "kernelspec": {
   "display_name": "base",
   "language": "python",
   "name": "python3"
  },
  "language_info": {
   "codemirror_mode": {
    "name": "ipython",
    "version": 3
   },
   "file_extension": ".py",
   "mimetype": "text/x-python",
   "name": "python",
   "nbconvert_exporter": "python",
   "pygments_lexer": "ipython3",
   "version": "3.10.9"
  }
 },
 "nbformat": 4,
 "nbformat_minor": 2
}
